{
 "cells": [
  {
   "cell_type": "code",
   "execution_count": 2,
   "id": "a502efcd",
   "metadata": {},
   "outputs": [
    {
     "name": "stdout",
     "output_type": "stream",
     "text": [
      "Requirement already satisfied: numpy in c:\\users\\miurangimasakorala\\anaconda3\\lib\\site-packages (1.20.3)\n",
      "Requirement already satisfied: pandas in c:\\users\\miurangimasakorala\\anaconda3\\lib\\site-packages (1.3.4)\n",
      "Requirement already satisfied: numpy>=1.17.3 in c:\\users\\miurangimasakorala\\anaconda3\\lib\\site-packages (from pandas) (1.20.3)\n",
      "Requirement already satisfied: pytz>=2017.3 in c:\\users\\miurangimasakorala\\anaconda3\\lib\\site-packages (from pandas) (2021.3)\n",
      "Requirement already satisfied: python-dateutil>=2.7.3 in c:\\users\\miurangimasakorala\\anaconda3\\lib\\site-packages (from pandas) (2.8.2)\n",
      "Requirement already satisfied: six>=1.5 in c:\\users\\miurangimasakorala\\anaconda3\\lib\\site-packages (from python-dateutil>=2.7.3->pandas) (1.16.0)\n",
      "Requirement already satisfied: seaborn in c:\\users\\miurangimasakorala\\anaconda3\\lib\\site-packages (0.11.2)\n",
      "Requirement already satisfied: numpy>=1.15 in c:\\users\\miurangimasakorala\\anaconda3\\lib\\site-packages (from seaborn) (1.20.3)\n",
      "Requirement already satisfied: matplotlib>=2.2 in c:\\users\\miurangimasakorala\\anaconda3\\lib\\site-packages (from seaborn) (3.4.3)\n",
      "Requirement already satisfied: pandas>=0.23 in c:\\users\\miurangimasakorala\\anaconda3\\lib\\site-packages (from seaborn) (1.3.4)\n",
      "Requirement already satisfied: scipy>=1.0 in c:\\users\\miurangimasakorala\\anaconda3\\lib\\site-packages (from seaborn) (1.7.1)\n",
      "Requirement already satisfied: pyparsing>=2.2.1 in c:\\users\\miurangimasakorala\\anaconda3\\lib\\site-packages (from matplotlib>=2.2->seaborn) (3.0.4)\n",
      "Requirement already satisfied: kiwisolver>=1.0.1 in c:\\users\\miurangimasakorala\\anaconda3\\lib\\site-packages (from matplotlib>=2.2->seaborn) (1.3.1)\n",
      "Requirement already satisfied: cycler>=0.10 in c:\\users\\miurangimasakorala\\anaconda3\\lib\\site-packages (from matplotlib>=2.2->seaborn) (0.10.0)\n",
      "Requirement already satisfied: python-dateutil>=2.7 in c:\\users\\miurangimasakorala\\anaconda3\\lib\\site-packages (from matplotlib>=2.2->seaborn) (2.8.2)\n",
      "Requirement already satisfied: pillow>=6.2.0 in c:\\users\\miurangimasakorala\\anaconda3\\lib\\site-packages (from matplotlib>=2.2->seaborn) (8.4.0)\n",
      "Requirement already satisfied: six in c:\\users\\miurangimasakorala\\anaconda3\\lib\\site-packages (from cycler>=0.10->matplotlib>=2.2->seaborn) (1.16.0)\n",
      "Requirement already satisfied: pytz>=2017.3 in c:\\users\\miurangimasakorala\\anaconda3\\lib\\site-packages (from pandas>=0.23->seaborn) (2021.3)\n",
      "Requirement already satisfied: sklearn in c:\\users\\miurangimasakorala\\anaconda3\\lib\\site-packages (0.0)\n",
      "Requirement already satisfied: scikit-learn in c:\\users\\miurangimasakorala\\anaconda3\\lib\\site-packages (from sklearn) (0.24.2)\n",
      "Requirement already satisfied: threadpoolctl>=2.0.0 in c:\\users\\miurangimasakorala\\anaconda3\\lib\\site-packages (from scikit-learn->sklearn) (2.2.0)\n",
      "Requirement already satisfied: scipy>=0.19.1 in c:\\users\\miurangimasakorala\\anaconda3\\lib\\site-packages (from scikit-learn->sklearn) (1.7.1)\n",
      "Requirement already satisfied: joblib>=0.11 in c:\\users\\miurangimasakorala\\anaconda3\\lib\\site-packages (from scikit-learn->sklearn) (1.1.0)\n",
      "Requirement already satisfied: numpy>=1.13.3 in c:\\users\\miurangimasakorala\\anaconda3\\lib\\site-packages (from scikit-learn->sklearn) (1.20.3)\n"
     ]
    }
   ],
   "source": [
    "!pip install numpy\n",
    "!pip install pandas\n",
    "!pip install seaborn\n",
    "!pip install sklearn"
   ]
  },
  {
   "cell_type": "code",
   "execution_count": 3,
   "id": "e65a09c4",
   "metadata": {},
   "outputs": [],
   "source": [
    "import numpy as np\n",
    "import pandas as pd"
   ]
  },
  {
   "cell_type": "code",
   "execution_count": 4,
   "id": "3f2df5d1",
   "metadata": {},
   "outputs": [
    {
     "data": {
      "text/html": [
       "<div>\n",
       "<style scoped>\n",
       "    .dataframe tbody tr th:only-of-type {\n",
       "        vertical-align: middle;\n",
       "    }\n",
       "\n",
       "    .dataframe tbody tr th {\n",
       "        vertical-align: top;\n",
       "    }\n",
       "\n",
       "    .dataframe thead th {\n",
       "        text-align: right;\n",
       "    }\n",
       "</style>\n",
       "<table border=\"1\" class=\"dataframe\">\n",
       "  <thead>\n",
       "    <tr style=\"text-align: right;\">\n",
       "      <th></th>\n",
       "      <th>Model Year</th>\n",
       "      <th>Make</th>\n",
       "      <th>Model</th>\n",
       "      <th>Vehicle Class</th>\n",
       "      <th>Engine Size(L)</th>\n",
       "      <th>Cylinders</th>\n",
       "      <th>Transmission</th>\n",
       "      <th>Fuel Type</th>\n",
       "      <th>Fuel Consumption (City (L/100 km)</th>\n",
       "      <th>Fuel Consumption(Hwy (L/100 km))</th>\n",
       "      <th>Fuel Consumption(Comb (L/100 km))</th>\n",
       "      <th>Fuel Consumption(Comb (mpg))</th>\n",
       "      <th>CO2 Emissions(g/km)</th>\n",
       "      <th>CO2 Rating</th>\n",
       "      <th>Smog Rating</th>\n",
       "    </tr>\n",
       "  </thead>\n",
       "  <tbody>\n",
       "    <tr>\n",
       "      <th>0</th>\n",
       "      <td>2022</td>\n",
       "      <td>Acura</td>\n",
       "      <td>ILX</td>\n",
       "      <td>Compact</td>\n",
       "      <td>2.4</td>\n",
       "      <td>4</td>\n",
       "      <td>AM8</td>\n",
       "      <td>Z</td>\n",
       "      <td>9.9</td>\n",
       "      <td>7.0</td>\n",
       "      <td>8.6</td>\n",
       "      <td>33</td>\n",
       "      <td>200</td>\n",
       "      <td>6</td>\n",
       "      <td>3</td>\n",
       "    </tr>\n",
       "    <tr>\n",
       "      <th>1</th>\n",
       "      <td>2022</td>\n",
       "      <td>Acura</td>\n",
       "      <td>MDX SH-AWD</td>\n",
       "      <td>SUV: Small</td>\n",
       "      <td>3.5</td>\n",
       "      <td>6</td>\n",
       "      <td>AS10</td>\n",
       "      <td>Z</td>\n",
       "      <td>12.6</td>\n",
       "      <td>9.4</td>\n",
       "      <td>11.2</td>\n",
       "      <td>25</td>\n",
       "      <td>263</td>\n",
       "      <td>4</td>\n",
       "      <td>5</td>\n",
       "    </tr>\n",
       "    <tr>\n",
       "      <th>2</th>\n",
       "      <td>2022</td>\n",
       "      <td>Acura</td>\n",
       "      <td>RDX SH-AWD</td>\n",
       "      <td>SUV: Small</td>\n",
       "      <td>2.0</td>\n",
       "      <td>4</td>\n",
       "      <td>AS10</td>\n",
       "      <td>Z</td>\n",
       "      <td>11.0</td>\n",
       "      <td>8.6</td>\n",
       "      <td>9.9</td>\n",
       "      <td>29</td>\n",
       "      <td>232</td>\n",
       "      <td>5</td>\n",
       "      <td>6</td>\n",
       "    </tr>\n",
       "    <tr>\n",
       "      <th>3</th>\n",
       "      <td>2022</td>\n",
       "      <td>Acura</td>\n",
       "      <td>RDX SH-AWD A-SPEC</td>\n",
       "      <td>SUV: Small</td>\n",
       "      <td>2.0</td>\n",
       "      <td>4</td>\n",
       "      <td>AS10</td>\n",
       "      <td>Z</td>\n",
       "      <td>11.3</td>\n",
       "      <td>9.1</td>\n",
       "      <td>10.3</td>\n",
       "      <td>27</td>\n",
       "      <td>242</td>\n",
       "      <td>5</td>\n",
       "      <td>6</td>\n",
       "    </tr>\n",
       "    <tr>\n",
       "      <th>4</th>\n",
       "      <td>2022</td>\n",
       "      <td>Acura</td>\n",
       "      <td>TLX SH-AWD</td>\n",
       "      <td>Compact</td>\n",
       "      <td>2.0</td>\n",
       "      <td>4</td>\n",
       "      <td>AS10</td>\n",
       "      <td>Z</td>\n",
       "      <td>11.2</td>\n",
       "      <td>8.0</td>\n",
       "      <td>9.8</td>\n",
       "      <td>29</td>\n",
       "      <td>230</td>\n",
       "      <td>5</td>\n",
       "      <td>7</td>\n",
       "    </tr>\n",
       "  </tbody>\n",
       "</table>\n",
       "</div>"
      ],
      "text/plain": [
       "   Model Year   Make              Model Vehicle Class  Engine Size(L)  \\\n",
       "0        2022  Acura                ILX       Compact             2.4   \n",
       "1        2022  Acura         MDX SH-AWD    SUV: Small             3.5   \n",
       "2        2022  Acura         RDX SH-AWD    SUV: Small             2.0   \n",
       "3        2022  Acura  RDX SH-AWD A-SPEC    SUV: Small             2.0   \n",
       "4        2022  Acura         TLX SH-AWD       Compact             2.0   \n",
       "\n",
       "   Cylinders Transmission Fuel Type  Fuel Consumption (City (L/100 km)  \\\n",
       "0          4          AM8         Z                                9.9   \n",
       "1          6         AS10         Z                               12.6   \n",
       "2          4         AS10         Z                               11.0   \n",
       "3          4         AS10         Z                               11.3   \n",
       "4          4         AS10         Z                               11.2   \n",
       "\n",
       "   Fuel Consumption(Hwy (L/100 km))  Fuel Consumption(Comb (L/100 km))  \\\n",
       "0                               7.0                                8.6   \n",
       "1                               9.4                               11.2   \n",
       "2                               8.6                                9.9   \n",
       "3                               9.1                               10.3   \n",
       "4                               8.0                                9.8   \n",
       "\n",
       "   Fuel Consumption(Comb (mpg))  CO2 Emissions(g/km)  CO2 Rating  Smog Rating  \n",
       "0                            33                  200           6            3  \n",
       "1                            25                  263           4            5  \n",
       "2                            29                  232           5            6  \n",
       "3                            27                  242           5            6  \n",
       "4                            29                  230           5            7  "
      ]
     },
     "execution_count": 4,
     "metadata": {},
     "output_type": "execute_result"
    }
   ],
   "source": [
    "url =\"./Dataset/MY2022 Fuel Consumption Ratings.csv\"\n",
    "data = pd.read_csv(url,encoding='utf-8-sig')\n",
    "data.head()"
   ]
  },
  {
   "cell_type": "code",
   "execution_count": 5,
   "id": "272714fa",
   "metadata": {},
   "outputs": [
    {
     "data": {
      "text/plain": [
       "(946, 15)"
      ]
     },
     "execution_count": 5,
     "metadata": {},
     "output_type": "execute_result"
    }
   ],
   "source": [
    "data.shape"
   ]
  },
  {
   "cell_type": "code",
   "execution_count": 6,
   "id": "81dc3cef",
   "metadata": {},
   "outputs": [
    {
     "data": {
      "text/plain": [
       "Model Year                           0\n",
       "Make                                 0\n",
       "Model                                0\n",
       "Vehicle Class                        0\n",
       "Engine Size(L)                       0\n",
       "Cylinders                            0\n",
       "Transmission                         0\n",
       "Fuel Type                            0\n",
       "Fuel Consumption (City (L/100 km)    0\n",
       "Fuel Consumption(Hwy (L/100 km))     0\n",
       "Fuel Consumption(Comb (L/100 km))    0\n",
       "Fuel Consumption(Comb (mpg))         0\n",
       "CO2 Emissions(g/km)                  0\n",
       "CO2 Rating                           0\n",
       "Smog Rating                          0\n",
       "dtype: int64"
      ]
     },
     "execution_count": 6,
     "metadata": {},
     "output_type": "execute_result"
    }
   ],
   "source": [
    "data.isnull().sum()"
   ]
  },
  {
   "cell_type": "code",
   "execution_count": 7,
   "id": "6fb47e55",
   "metadata": {},
   "outputs": [
    {
     "name": "stdout",
     "output_type": "stream",
     "text": [
      "<class 'pandas.core.frame.DataFrame'>\n",
      "RangeIndex: 946 entries, 0 to 945\n",
      "Data columns (total 15 columns):\n",
      " #   Column                             Non-Null Count  Dtype  \n",
      "---  ------                             --------------  -----  \n",
      " 0   Model Year                         946 non-null    int64  \n",
      " 1   Make                               946 non-null    object \n",
      " 2   Model                              946 non-null    object \n",
      " 3   Vehicle Class                      946 non-null    object \n",
      " 4   Engine Size(L)                     946 non-null    float64\n",
      " 5   Cylinders                          946 non-null    int64  \n",
      " 6   Transmission                       946 non-null    object \n",
      " 7   Fuel Type                          946 non-null    object \n",
      " 8   Fuel Consumption (City (L/100 km)  946 non-null    float64\n",
      " 9   Fuel Consumption(Hwy (L/100 km))   946 non-null    float64\n",
      " 10  Fuel Consumption(Comb (L/100 km))  946 non-null    float64\n",
      " 11  Fuel Consumption(Comb (mpg))       946 non-null    int64  \n",
      " 12  CO2 Emissions(g/km)                946 non-null    int64  \n",
      " 13  CO2 Rating                         946 non-null    int64  \n",
      " 14  Smog Rating                        946 non-null    int64  \n",
      "dtypes: float64(4), int64(6), object(5)\n",
      "memory usage: 111.0+ KB\n"
     ]
    }
   ],
   "source": [
    "data.info()"
   ]
  },
  {
   "cell_type": "code",
   "execution_count": 8,
   "id": "8a641613",
   "metadata": {},
   "outputs": [
    {
     "data": {
      "text/plain": [
       "Model Year                                NaN\n",
       "Engine Size(L)                       0.834925\n",
       "Cylinders                            0.845688\n",
       "Fuel Consumption (City (L/100 km)    1.000000\n",
       "Fuel Consumption(Hwy (L/100 km))     0.922850\n",
       "Fuel Consumption(Comb (L/100 km))    0.990321\n",
       "Fuel Consumption(Comb (mpg))        -0.909477\n",
       "CO2 Emissions(g/km)                  0.965632\n",
       "CO2 Rating                          -0.920524\n",
       "Smog Rating                         -0.523928\n",
       "Name: Fuel Consumption (City (L/100 km), dtype: float64"
      ]
     },
     "execution_count": 8,
     "metadata": {},
     "output_type": "execute_result"
    }
   ],
   "source": [
    "data.corr()['Fuel Consumption (City (L/100 km)']"
   ]
  },
  {
   "cell_type": "code",
   "execution_count": 9,
   "id": "b5e39f65",
   "metadata": {},
   "outputs": [
    {
     "data": {
      "text/plain": [
       "SUV: Small                 197\n",
       "SUV: Standard              141\n",
       "Mid-size                   117\n",
       "Pickup truck: Standard     113\n",
       "Subcompact                  80\n",
       "Compact                     69\n",
       "Full-size                   64\n",
       "Two-seater                  51\n",
       "Minicompact                 48\n",
       "Pickup truck: Small         20\n",
       "Station wagon: Small        19\n",
       "Special purpose vehicle     12\n",
       "Station wagon: Mid-size      8\n",
       "Minivan                      7\n",
       "Name: Vehicle Class, dtype: int64"
      ]
     },
     "execution_count": 9,
     "metadata": {},
     "output_type": "execute_result"
    }
   ],
   "source": [
    "data['Vehicle Class'].value_counts()"
   ]
  },
  {
   "cell_type": "code",
   "execution_count": 10,
   "id": "dedd80f4",
   "metadata": {},
   "outputs": [],
   "source": [
    "def add_vehicleClass(inpt):\n",
    "    if inpt == 'Pickup truck: Small' or inpt == 'Station wagon: Small' or inpt == 'Special purpose vehicle' or inpt == 'Station wagon: Mid-size' or inpt == 'Minivan':\n",
    "        return 'Other'\n",
    "    else:\n",
    "        return inpt\n",
    "data['Vehicle Class'] = data['Vehicle Class'].apply(add_vehicleClass)"
   ]
  },
  {
   "cell_type": "code",
   "execution_count": 11,
   "id": "556cfd5c",
   "metadata": {},
   "outputs": [
    {
     "data": {
      "text/plain": [
       "SUV: Small                197\n",
       "SUV: Standard             141\n",
       "Mid-size                  117\n",
       "Pickup truck: Standard    113\n",
       "Subcompact                 80\n",
       "Compact                    69\n",
       "Other                      66\n",
       "Full-size                  64\n",
       "Two-seater                 51\n",
       "Minicompact                48\n",
       "Name: Vehicle Class, dtype: int64"
      ]
     },
     "execution_count": 11,
     "metadata": {},
     "output_type": "execute_result"
    }
   ],
   "source": [
    "data['Vehicle Class'].value_counts()"
   ]
  },
  {
   "cell_type": "code",
   "execution_count": 12,
   "id": "70856c8d",
   "metadata": {},
   "outputs": [
    {
     "data": {
      "text/plain": [
       "AS8     212\n",
       "A8      100\n",
       "AS10     87\n",
       "A10      72\n",
       "M6       71\n",
       "AM7      70\n",
       "A9       65\n",
       "AM8      52\n",
       "AV       43\n",
       "AS6      39\n",
       "A6       24\n",
       "AV8      23\n",
       "AS9      19\n",
       "M7       14\n",
       "AV7      10\n",
       "AM6      10\n",
       "AV6       8\n",
       "AV10      8\n",
       "AS7       7\n",
       "M5        5\n",
       "AV1       4\n",
       "AS5       2\n",
       "A7        1\n",
       "Name: Transmission, dtype: int64"
      ]
     },
     "execution_count": 12,
     "metadata": {},
     "output_type": "execute_result"
    }
   ],
   "source": [
    "data['Transmission'].value_counts()"
   ]
  },
  {
   "cell_type": "code",
   "execution_count": 13,
   "id": "c418c25d",
   "metadata": {},
   "outputs": [],
   "source": [
    "def add_transmission(inpt):\n",
    "    if inpt == 'AS9' or inpt == 'M7' or inpt == 'AV7' or inpt == 'AM6' or inpt == 'AV6' or inpt == 'AV10' or inpt == 'AS7' or inpt == 'M5' or inpt == 'AV1' or inpt == 'AS5' or inpt == 'A7':\n",
    "        return 'Other'\n",
    "    else:\n",
    "        return inpt\n",
    "data['Transmission'] = data['Transmission'].apply(add_transmission)"
   ]
  },
  {
   "cell_type": "code",
   "execution_count": 14,
   "id": "36ce7fa6",
   "metadata": {},
   "outputs": [
    {
     "data": {
      "text/plain": [
       "AS8      212\n",
       "A8       100\n",
       "Other     88\n",
       "AS10      87\n",
       "A10       72\n",
       "M6        71\n",
       "AM7       70\n",
       "A9        65\n",
       "AM8       52\n",
       "AV        43\n",
       "AS6       39\n",
       "A6        24\n",
       "AV8       23\n",
       "Name: Transmission, dtype: int64"
      ]
     },
     "execution_count": 14,
     "metadata": {},
     "output_type": "execute_result"
    }
   ],
   "source": [
    "data['Transmission'].value_counts()"
   ]
  },
  {
   "cell_type": "code",
   "execution_count": 15,
   "id": "83c8f753",
   "metadata": {},
   "outputs": [
    {
     "data": {
      "text/plain": [
       "Z    458\n",
       "X    446\n",
       "D     28\n",
       "E     14\n",
       "Name: Fuel Type, dtype: int64"
      ]
     },
     "execution_count": 15,
     "metadata": {},
     "output_type": "execute_result"
    }
   ],
   "source": [
    "data['Fuel Type'].value_counts()"
   ]
  },
  {
   "cell_type": "code",
   "execution_count": 16,
   "id": "ead982a7",
   "metadata": {},
   "outputs": [
    {
     "data": {
      "text/html": [
       "<div>\n",
       "<style scoped>\n",
       "    .dataframe tbody tr th:only-of-type {\n",
       "        vertical-align: middle;\n",
       "    }\n",
       "\n",
       "    .dataframe tbody tr th {\n",
       "        vertical-align: top;\n",
       "    }\n",
       "\n",
       "    .dataframe thead th {\n",
       "        text-align: right;\n",
       "    }\n",
       "</style>\n",
       "<table border=\"1\" class=\"dataframe\">\n",
       "  <thead>\n",
       "    <tr style=\"text-align: right;\">\n",
       "      <th></th>\n",
       "      <th>Model Year</th>\n",
       "      <th>Make</th>\n",
       "      <th>Model</th>\n",
       "      <th>Vehicle Class</th>\n",
       "      <th>Engine Size(L)</th>\n",
       "      <th>Cylinders</th>\n",
       "      <th>Transmission</th>\n",
       "      <th>Fuel Type</th>\n",
       "      <th>Fuel Consumption (City (L/100 km)</th>\n",
       "      <th>Fuel Consumption(Hwy (L/100 km))</th>\n",
       "      <th>Fuel Consumption(Comb (L/100 km))</th>\n",
       "      <th>Fuel Consumption(Comb (mpg))</th>\n",
       "      <th>CO2 Emissions(g/km)</th>\n",
       "      <th>CO2 Rating</th>\n",
       "      <th>Smog Rating</th>\n",
       "    </tr>\n",
       "  </thead>\n",
       "  <tbody>\n",
       "    <tr>\n",
       "      <th>0</th>\n",
       "      <td>2022</td>\n",
       "      <td>Acura</td>\n",
       "      <td>ILX</td>\n",
       "      <td>Compact</td>\n",
       "      <td>2.4</td>\n",
       "      <td>4</td>\n",
       "      <td>AM8</td>\n",
       "      <td>Z</td>\n",
       "      <td>9.9</td>\n",
       "      <td>7.0</td>\n",
       "      <td>8.6</td>\n",
       "      <td>33</td>\n",
       "      <td>200</td>\n",
       "      <td>6</td>\n",
       "      <td>3</td>\n",
       "    </tr>\n",
       "    <tr>\n",
       "      <th>1</th>\n",
       "      <td>2022</td>\n",
       "      <td>Acura</td>\n",
       "      <td>MDX SH-AWD</td>\n",
       "      <td>SUV: Small</td>\n",
       "      <td>3.5</td>\n",
       "      <td>6</td>\n",
       "      <td>AS10</td>\n",
       "      <td>Z</td>\n",
       "      <td>12.6</td>\n",
       "      <td>9.4</td>\n",
       "      <td>11.2</td>\n",
       "      <td>25</td>\n",
       "      <td>263</td>\n",
       "      <td>4</td>\n",
       "      <td>5</td>\n",
       "    </tr>\n",
       "  </tbody>\n",
       "</table>\n",
       "</div>"
      ],
      "text/plain": [
       "   Model Year   Make       Model Vehicle Class  Engine Size(L)  Cylinders  \\\n",
       "0        2022  Acura         ILX       Compact             2.4          4   \n",
       "1        2022  Acura  MDX SH-AWD    SUV: Small             3.5          6   \n",
       "\n",
       "  Transmission Fuel Type  Fuel Consumption (City (L/100 km)  \\\n",
       "0          AM8         Z                                9.9   \n",
       "1         AS10         Z                               12.6   \n",
       "\n",
       "   Fuel Consumption(Hwy (L/100 km))  Fuel Consumption(Comb (L/100 km))  \\\n",
       "0                               7.0                                8.6   \n",
       "1                               9.4                               11.2   \n",
       "\n",
       "   Fuel Consumption(Comb (mpg))  CO2 Emissions(g/km)  CO2 Rating  Smog Rating  \n",
       "0                            33                  200           6            3  \n",
       "1                            25                  263           4            5  "
      ]
     },
     "execution_count": 16,
     "metadata": {},
     "output_type": "execute_result"
    }
   ],
   "source": [
    "data.head(2)"
   ]
  },
  {
   "cell_type": "code",
   "execution_count": 17,
   "id": "e4366767",
   "metadata": {},
   "outputs": [
    {
     "data": {
      "text/html": [
       "<div>\n",
       "<style scoped>\n",
       "    .dataframe tbody tr th:only-of-type {\n",
       "        vertical-align: middle;\n",
       "    }\n",
       "\n",
       "    .dataframe tbody tr th {\n",
       "        vertical-align: top;\n",
       "    }\n",
       "\n",
       "    .dataframe thead th {\n",
       "        text-align: right;\n",
       "    }\n",
       "</style>\n",
       "<table border=\"1\" class=\"dataframe\">\n",
       "  <thead>\n",
       "    <tr style=\"text-align: right;\">\n",
       "      <th></th>\n",
       "      <th>Vehicle Class</th>\n",
       "      <th>Engine Size(L)</th>\n",
       "      <th>Cylinders</th>\n",
       "      <th>Transmission</th>\n",
       "      <th>Fuel Type</th>\n",
       "      <th>Fuel Consumption (City (L/100 km)</th>\n",
       "      <th>CO2 Emissions(g/km)</th>\n",
       "      <th>CO2 Rating</th>\n",
       "      <th>Smog Rating</th>\n",
       "    </tr>\n",
       "  </thead>\n",
       "  <tbody>\n",
       "    <tr>\n",
       "      <th>0</th>\n",
       "      <td>Compact</td>\n",
       "      <td>2.4</td>\n",
       "      <td>4</td>\n",
       "      <td>AM8</td>\n",
       "      <td>Z</td>\n",
       "      <td>9.9</td>\n",
       "      <td>200</td>\n",
       "      <td>6</td>\n",
       "      <td>3</td>\n",
       "    </tr>\n",
       "    <tr>\n",
       "      <th>1</th>\n",
       "      <td>SUV: Small</td>\n",
       "      <td>3.5</td>\n",
       "      <td>6</td>\n",
       "      <td>AS10</td>\n",
       "      <td>Z</td>\n",
       "      <td>12.6</td>\n",
       "      <td>263</td>\n",
       "      <td>4</td>\n",
       "      <td>5</td>\n",
       "    </tr>\n",
       "    <tr>\n",
       "      <th>2</th>\n",
       "      <td>SUV: Small</td>\n",
       "      <td>2.0</td>\n",
       "      <td>4</td>\n",
       "      <td>AS10</td>\n",
       "      <td>Z</td>\n",
       "      <td>11.0</td>\n",
       "      <td>232</td>\n",
       "      <td>5</td>\n",
       "      <td>6</td>\n",
       "    </tr>\n",
       "    <tr>\n",
       "      <th>3</th>\n",
       "      <td>SUV: Small</td>\n",
       "      <td>2.0</td>\n",
       "      <td>4</td>\n",
       "      <td>AS10</td>\n",
       "      <td>Z</td>\n",
       "      <td>11.3</td>\n",
       "      <td>242</td>\n",
       "      <td>5</td>\n",
       "      <td>6</td>\n",
       "    </tr>\n",
       "    <tr>\n",
       "      <th>4</th>\n",
       "      <td>Compact</td>\n",
       "      <td>2.0</td>\n",
       "      <td>4</td>\n",
       "      <td>AS10</td>\n",
       "      <td>Z</td>\n",
       "      <td>11.2</td>\n",
       "      <td>230</td>\n",
       "      <td>5</td>\n",
       "      <td>7</td>\n",
       "    </tr>\n",
       "    <tr>\n",
       "      <th>...</th>\n",
       "      <td>...</td>\n",
       "      <td>...</td>\n",
       "      <td>...</td>\n",
       "      <td>...</td>\n",
       "      <td>...</td>\n",
       "      <td>...</td>\n",
       "      <td>...</td>\n",
       "      <td>...</td>\n",
       "      <td>...</td>\n",
       "    </tr>\n",
       "    <tr>\n",
       "      <th>941</th>\n",
       "      <td>SUV: Small</td>\n",
       "      <td>2.0</td>\n",
       "      <td>4</td>\n",
       "      <td>AS8</td>\n",
       "      <td>Z</td>\n",
       "      <td>10.7</td>\n",
       "      <td>219</td>\n",
       "      <td>5</td>\n",
       "      <td>5</td>\n",
       "    </tr>\n",
       "    <tr>\n",
       "      <th>942</th>\n",
       "      <td>SUV: Small</td>\n",
       "      <td>2.0</td>\n",
       "      <td>4</td>\n",
       "      <td>AS8</td>\n",
       "      <td>Z</td>\n",
       "      <td>10.5</td>\n",
       "      <td>219</td>\n",
       "      <td>5</td>\n",
       "      <td>5</td>\n",
       "    </tr>\n",
       "    <tr>\n",
       "      <th>943</th>\n",
       "      <td>SUV: Small</td>\n",
       "      <td>2.0</td>\n",
       "      <td>4</td>\n",
       "      <td>AS8</td>\n",
       "      <td>Z</td>\n",
       "      <td>11.0</td>\n",
       "      <td>232</td>\n",
       "      <td>5</td>\n",
       "      <td>7</td>\n",
       "    </tr>\n",
       "    <tr>\n",
       "      <th>944</th>\n",
       "      <td>SUV: Standard</td>\n",
       "      <td>2.0</td>\n",
       "      <td>4</td>\n",
       "      <td>AS8</td>\n",
       "      <td>Z</td>\n",
       "      <td>11.5</td>\n",
       "      <td>236</td>\n",
       "      <td>5</td>\n",
       "      <td>5</td>\n",
       "    </tr>\n",
       "    <tr>\n",
       "      <th>945</th>\n",
       "      <td>SUV: Standard</td>\n",
       "      <td>2.0</td>\n",
       "      <td>4</td>\n",
       "      <td>AS8</td>\n",
       "      <td>Z</td>\n",
       "      <td>12.4</td>\n",
       "      <td>252</td>\n",
       "      <td>5</td>\n",
       "      <td>7</td>\n",
       "    </tr>\n",
       "  </tbody>\n",
       "</table>\n",
       "<p>946 rows × 9 columns</p>\n",
       "</div>"
      ],
      "text/plain": [
       "     Vehicle Class  Engine Size(L)  Cylinders Transmission Fuel Type  \\\n",
       "0          Compact             2.4          4          AM8         Z   \n",
       "1       SUV: Small             3.5          6         AS10         Z   \n",
       "2       SUV: Small             2.0          4         AS10         Z   \n",
       "3       SUV: Small             2.0          4         AS10         Z   \n",
       "4          Compact             2.0          4         AS10         Z   \n",
       "..             ...             ...        ...          ...       ...   \n",
       "941     SUV: Small             2.0          4          AS8         Z   \n",
       "942     SUV: Small             2.0          4          AS8         Z   \n",
       "943     SUV: Small             2.0          4          AS8         Z   \n",
       "944  SUV: Standard             2.0          4          AS8         Z   \n",
       "945  SUV: Standard             2.0          4          AS8         Z   \n",
       "\n",
       "     Fuel Consumption (City (L/100 km)  CO2 Emissions(g/km)  CO2 Rating  \\\n",
       "0                                  9.9                  200           6   \n",
       "1                                 12.6                  263           4   \n",
       "2                                 11.0                  232           5   \n",
       "3                                 11.3                  242           5   \n",
       "4                                 11.2                  230           5   \n",
       "..                                 ...                  ...         ...   \n",
       "941                               10.7                  219           5   \n",
       "942                               10.5                  219           5   \n",
       "943                               11.0                  232           5   \n",
       "944                               11.5                  236           5   \n",
       "945                               12.4                  252           5   \n",
       "\n",
       "     Smog Rating  \n",
       "0              3  \n",
       "1              5  \n",
       "2              6  \n",
       "3              6  \n",
       "4              7  \n",
       "..           ...  \n",
       "941            5  \n",
       "942            5  \n",
       "943            7  \n",
       "944            5  \n",
       "945            7  \n",
       "\n",
       "[946 rows x 9 columns]"
      ]
     },
     "execution_count": 17,
     "metadata": {},
     "output_type": "execute_result"
    }
   ],
   "source": [
    "data=data.drop(columns=['Model Year','Model','Make','Fuel Consumption(Hwy (L/100 km))','Fuel Consumption(Comb (L/100 km))','Fuel Consumption(Comb (mpg))'])\n",
    "data"
   ]
  },
  {
   "cell_type": "code",
   "execution_count": 18,
   "id": "071bd6b2",
   "metadata": {},
   "outputs": [],
   "source": [
    "data =  pd.get_dummies(data)"
   ]
  },
  {
   "cell_type": "code",
   "execution_count": 19,
   "id": "9680a486",
   "metadata": {},
   "outputs": [
    {
     "name": "stdout",
     "output_type": "stream",
     "text": [
      "<class 'pandas.core.frame.DataFrame'>\n",
      "RangeIndex: 946 entries, 0 to 945\n",
      "Data columns (total 33 columns):\n",
      " #   Column                                Non-Null Count  Dtype  \n",
      "---  ------                                --------------  -----  \n",
      " 0   Engine Size(L)                        946 non-null    float64\n",
      " 1   Cylinders                             946 non-null    int64  \n",
      " 2   Fuel Consumption (City (L/100 km)     946 non-null    float64\n",
      " 3   CO2 Emissions(g/km)                   946 non-null    int64  \n",
      " 4   CO2 Rating                            946 non-null    int64  \n",
      " 5   Smog Rating                           946 non-null    int64  \n",
      " 6   Vehicle Class_Compact                 946 non-null    uint8  \n",
      " 7   Vehicle Class_Full-size               946 non-null    uint8  \n",
      " 8   Vehicle Class_Mid-size                946 non-null    uint8  \n",
      " 9   Vehicle Class_Minicompact             946 non-null    uint8  \n",
      " 10  Vehicle Class_Other                   946 non-null    uint8  \n",
      " 11  Vehicle Class_Pickup truck: Standard  946 non-null    uint8  \n",
      " 12  Vehicle Class_SUV: Small              946 non-null    uint8  \n",
      " 13  Vehicle Class_SUV: Standard           946 non-null    uint8  \n",
      " 14  Vehicle Class_Subcompact              946 non-null    uint8  \n",
      " 15  Vehicle Class_Two-seater              946 non-null    uint8  \n",
      " 16  Transmission_A10                      946 non-null    uint8  \n",
      " 17  Transmission_A6                       946 non-null    uint8  \n",
      " 18  Transmission_A8                       946 non-null    uint8  \n",
      " 19  Transmission_A9                       946 non-null    uint8  \n",
      " 20  Transmission_AM7                      946 non-null    uint8  \n",
      " 21  Transmission_AM8                      946 non-null    uint8  \n",
      " 22  Transmission_AS10                     946 non-null    uint8  \n",
      " 23  Transmission_AS6                      946 non-null    uint8  \n",
      " 24  Transmission_AS8                      946 non-null    uint8  \n",
      " 25  Transmission_AV                       946 non-null    uint8  \n",
      " 26  Transmission_AV8                      946 non-null    uint8  \n",
      " 27  Transmission_M6                       946 non-null    uint8  \n",
      " 28  Transmission_Other                    946 non-null    uint8  \n",
      " 29  Fuel Type_D                           946 non-null    uint8  \n",
      " 30  Fuel Type_E                           946 non-null    uint8  \n",
      " 31  Fuel Type_X                           946 non-null    uint8  \n",
      " 32  Fuel Type_Z                           946 non-null    uint8  \n",
      "dtypes: float64(2), int64(4), uint8(27)\n",
      "memory usage: 69.4 KB\n"
     ]
    }
   ],
   "source": [
    "data.info()"
   ]
  },
  {
   "cell_type": "code",
   "execution_count": 20,
   "id": "4f61daec",
   "metadata": {},
   "outputs": [
    {
     "data": {
      "text/plain": [
       "<AxesSubplot:>"
      ]
     },
     "execution_count": 20,
     "metadata": {},
     "output_type": "execute_result"
    },
    {
     "data": {
      "image/png": "[encoded data removed]",
      "text/plain": [
       "<Figure size 432x288 with 2 Axes>"
      ]
     },
     "metadata": {
      "needs_background": "light"
     },
     "output_type": "display_data"
    }
   ],
   "source": [
    "import seaborn as sns\n",
    "sns.heatmap(data.isnull(),yticklabels=False)"
   ]
  },
  {
   "cell_type": "code",
   "execution_count": 21,
   "id": "5730a945",
   "metadata": {},
   "outputs": [
    {
     "data": {
      "text/plain": [
       "Engine Size(L)                          0.834925\n",
       "Cylinders                               0.845688\n",
       "Fuel Consumption (City (L/100 km)       1.000000\n",
       "CO2 Emissions(g/km)                     0.965632\n",
       "CO2 Rating                             -0.920524\n",
       "Smog Rating                            -0.523928\n",
       "Vehicle Class_Compact                  -0.205300\n",
       "Vehicle Class_Full-size                 0.009500\n",
       "Vehicle Class_Mid-size                 -0.131271\n",
       "Vehicle Class_Minicompact               0.073976\n",
       "Vehicle Class_Other                    -0.088907\n",
       "Vehicle Class_Pickup truck: Standard    0.274407\n",
       "Vehicle Class_SUV: Small               -0.263008\n",
       "Vehicle Class_SUV: Standard             0.227625\n",
       "Vehicle Class_Subcompact               -0.018957\n",
       "Vehicle Class_Two-seater                0.188802\n",
       "Transmission_A10                        0.198423\n",
       "Transmission_A6                         0.142323\n",
       "Transmission_A8                         0.136373\n",
       "Transmission_A9                        -0.053921\n",
       "Transmission_AM7                        0.050620\n",
       "Transmission_AM8                        0.073349\n",
       "Transmission_AS10                       0.106912\n",
       "Transmission_AS6                       -0.105950\n",
       "Transmission_AS8                        0.056747\n",
       "Transmission_AV                        -0.338267\n",
       "Transmission_AV8                       -0.138747\n",
       "Transmission_M6                        -0.041697\n",
       "Transmission_Other                     -0.220102\n",
       "Fuel Type_D                            -0.061973\n",
       "Fuel Type_E                             0.261372\n",
       "Fuel Type_X                            -0.350690\n",
       "Fuel Type_Z                             0.308158\n",
       "Name: Fuel Consumption (City (L/100 km), dtype: float64"
      ]
     },
     "execution_count": 21,
     "metadata": {},
     "output_type": "execute_result"
    }
   ],
   "source": [
    "data.corr()['Fuel Consumption (City (L/100 km)']"
   ]
  },
  {
   "cell_type": "code",
   "execution_count": 22,
   "id": "fdbbbda4",
   "metadata": {},
   "outputs": [],
   "source": [
    "x = data.drop('Fuel Consumption (City (L/100 km)',axis=1)\n",
    "y = data['Fuel Consumption (City (L/100 km)']"
   ]
  },
  {
   "cell_type": "code",
   "execution_count": 23,
   "id": "9dd4a3f7",
   "metadata": {},
   "outputs": [],
   "source": [
    "from sklearn.model_selection import train_test_split\n",
    "x_train,x_test,y_train,y_test= train_test_split(x,y,test_size=0.25)"
   ]
  },
  {
   "cell_type": "code",
   "execution_count": 24,
   "id": "2a797145",
   "metadata": {},
   "outputs": [
    {
     "data": {
      "text/plain": [
       "((709, 32), (237, 32))"
      ]
     },
     "execution_count": 24,
     "metadata": {},
     "output_type": "execute_result"
    }
   ],
   "source": [
    "x_train.shape,x_test.shape"
   ]
  },
  {
   "cell_type": "code",
   "execution_count": 25,
   "id": "4aff57b0",
   "metadata": {},
   "outputs": [],
   "source": [
    "# Feature selection by ExtraTreesRegressor(model based)\n",
    "\n",
    "from sklearn.ensemble import ExtraTreesRegressor\n",
    "from sklearn.model_selection import train_test_split\n",
    "from sklearn.metrics import accuracy_score as acc"
   ]
  },
  {
   "cell_type": "code",
   "execution_count": 26,
   "id": "acdb64cb",
   "metadata": {},
   "outputs": [],
   "source": [
    "x_train, x_test, y_train, y_test = train_test_split(\n",
    "    x,\n",
    "    y,\n",
    "    test_size=0.3,\n",
    "    random_state=0)\n"
   ]
  },
  {
   "cell_type": "code",
   "execution_count": 27,
   "id": "ee1b95c1",
   "metadata": {},
   "outputs": [
    {
     "data": {
      "text/plain": [
       "array([1.69148386e-01, 1.35440543e-01, 2.41434877e-01, 3.73621792e-01,\n",
       "       1.87056445e-02, 9.19270799e-05, 1.77411568e-04, 5.03609436e-04,\n",
       "       2.65132424e-04, 5.83407743e-04, 1.77361088e-03, 1.07482033e-03,\n",
       "       6.63874598e-04, 5.61836748e-04, 2.14273382e-03, 3.56123136e-04,\n",
       "       7.94617443e-05, 4.67589282e-04, 1.33092970e-04, 1.40503387e-03,\n",
       "       1.75010349e-04, 6.31767629e-04, 9.21923067e-05, 6.03013420e-04,\n",
       "       1.07224750e-04, 1.45960720e-04, 4.17447821e-04, 5.18577687e-04,\n",
       "       6.00168248e-03, 4.12523754e-02, 7.81537816e-04, 6.42301270e-04])"
      ]
     },
     "execution_count": 27,
     "metadata": {},
     "output_type": "execute_result"
    }
   ],
   "source": [
    "reg= ExtraTreesRegressor()\n",
    "reg.fit(x_train,y_train)\n",
    "reg.feature_importances_"
   ]
  },
  {
   "cell_type": "code",
   "execution_count": 28,
   "id": "69c88b2c",
   "metadata": {},
   "outputs": [
    {
     "data": {
      "image/png": "[encoded data removed]",
      "text/plain": [
       "<Figure size 432x288 with 1 Axes>"
      ]
     },
     "metadata": {
      "needs_background": "light"
     },
     "output_type": "display_data"
    }
   ],
   "source": [
    "import matplotlib.pyplot as plt\n",
    "feat_importances = pd.Series(reg.feature_importances_, index=x_train.columns)\n",
    "feat_importances.nlargest(5).plot(kind='barh')\n",
    "plt.show()"
   ]
  },
  {
   "cell_type": "code",
   "execution_count": 29,
   "id": "fb95be65",
   "metadata": {},
   "outputs": [],
   "source": [
    "def model_acc(model):\n",
    "    model.fit(x_train, y_train)\n",
    "    acc = model.score(x_test, y_test)\n",
    "    print(str(model)+ ' --> ' +str(acc))"
   ]
  },
  {
   "cell_type": "markdown",
   "id": "40bf40a3",
   "metadata": {},
   "source": [
    "# LinearRegression"
   ]
  },
  {
   "cell_type": "code",
   "execution_count": 30,
   "id": "1644ee32",
   "metadata": {},
   "outputs": [
    {
     "name": "stdout",
     "output_type": "stream",
     "text": [
      "LinearRegression() --> 0.9874289272579025\n"
     ]
    }
   ],
   "source": [
    "from sklearn.linear_model import LinearRegression\n",
    "lr = LinearRegression()\n",
    "model_acc(lr)"
   ]
  },
  {
   "cell_type": "markdown",
   "id": "430a3dcf",
   "metadata": {},
   "source": [
    "# DecisionTree\n"
   ]
  },
  {
   "cell_type": "code",
   "execution_count": 31,
   "id": "b0e870d4",
   "metadata": {},
   "outputs": [
    {
     "name": "stdout",
     "output_type": "stream",
     "text": [
      "DecisionTreeRegressor() --> 0.9753146411744893\n"
     ]
    }
   ],
   "source": [
    "from sklearn.tree import DecisionTreeRegressor\n",
    "dt = DecisionTreeRegressor()\n",
    "model_acc(dt)"
   ]
  },
  {
   "cell_type": "markdown",
   "id": "385cedc0",
   "metadata": {},
   "source": [
    "# Lasso"
   ]
  },
  {
   "cell_type": "code",
   "execution_count": 32,
   "id": "9e262cf6",
   "metadata": {},
   "outputs": [
    {
     "name": "stdout",
     "output_type": "stream",
     "text": [
      "Lasso() --> 0.9492024611208804\n"
     ]
    }
   ],
   "source": [
    "from sklearn.linear_model import Lasso\n",
    "lasso = Lasso()\n",
    "model_acc(lasso)\n"
   ]
  },
  {
   "cell_type": "markdown",
   "id": "182aac1f",
   "metadata": {},
   "source": [
    "# RandomForestRegressor\n"
   ]
  },
  {
   "cell_type": "code",
   "execution_count": 33,
   "id": "9e4df9a6",
   "metadata": {},
   "outputs": [
    {
     "name": "stdout",
     "output_type": "stream",
     "text": [
      "RandomForestRegressor() --> 0.9831247410173877\n"
     ]
    }
   ],
   "source": [
    "from sklearn.ensemble import RandomForestRegressor\n",
    "rf = RandomForestRegressor()\n",
    "model_acc(rf)"
   ]
  },
  {
   "cell_type": "markdown",
   "id": "01463357",
   "metadata": {},
   "source": [
    "# K-Nearest Neighbors"
   ]
  },
  {
   "cell_type": "code",
   "execution_count": 34,
   "id": "e42766e2",
   "metadata": {},
   "outputs": [
    {
     "name": "stdout",
     "output_type": "stream",
     "text": [
      "KNeighborsRegressor() --> 0.965186336505409\n"
     ]
    }
   ],
   "source": [
    "from sklearn.neighbors import KNeighborsRegressor\n",
    "knn = KNeighborsRegressor()\n",
    "model_acc(knn)"
   ]
  },
  {
   "cell_type": "markdown",
   "id": "86684f8e",
   "metadata": {},
   "source": [
    "## Checking difference between RandomForestRegressor (labled y and predicted y)"
   ]
  },
  {
   "cell_type": "code",
   "execution_count": 35,
   "id": "910c878a",
   "metadata": {},
   "outputs": [
    {
     "data": {
      "text/plain": [
       "0.9984285395852777"
      ]
     },
     "execution_count": 35,
     "metadata": {},
     "output_type": "execute_result"
    }
   ],
   "source": [
    "rf.fit(x_train,y_train)\n",
    "rf.score(x_train,y_train)"
   ]
  },
  {
   "cell_type": "code",
   "execution_count": 36,
   "id": "9868445a",
   "metadata": {},
   "outputs": [
    {
     "data": {
      "text/plain": [
       "0.983814819110012"
      ]
     },
     "execution_count": 36,
     "metadata": {},
     "output_type": "execute_result"
    }
   ],
   "source": [
    "rf.score(x_test,y_test)"
   ]
  },
  {
   "cell_type": "code",
   "execution_count": 37,
   "id": "f11d5cb6",
   "metadata": {},
   "outputs": [],
   "source": [
    "prediction=rf.predict(x_test)"
   ]
  },
  {
   "cell_type": "code",
   "execution_count": 38,
   "id": "7368583b",
   "metadata": {},
   "outputs": [
    {
     "name": "stderr",
     "output_type": "stream",
     "text": [
      "C:\\Users\\MiurangiMasakorala\\anaconda3\\lib\\site-packages\\seaborn\\distributions.py:2619: FutureWarning: `distplot` is a deprecated function and will be removed in a future version. Please adapt your code to use either `displot` (a figure-level function with similar flexibility) or `histplot` (an axes-level function for histograms).\n",
      "  warnings.warn(msg, FutureWarning)\n"
     ]
    },
    {
     "data": {
      "text/plain": [
       "<AxesSubplot:xlabel='Fuel Consumption (City (L/100 km)', ylabel='Density'>"
      ]
     },
     "execution_count": 38,
     "metadata": {},
     "output_type": "execute_result"
    },
    {
     "data": {
      "image/png": "[encoded data removed]",
      "text/plain": [
       "<Figure size 432x288 with 1 Axes>"
      ]
     },
     "metadata": {
      "needs_background": "light"
     },
     "output_type": "display_data"
    }
   ],
   "source": [
    "sns.distplot(y_test-prediction)"
   ]
  },
  {
   "cell_type": "code",
   "execution_count": 39,
   "id": "cee5aa47",
   "metadata": {},
   "outputs": [
    {
     "data": {
      "text/plain": [
       "<matplotlib.collections.PathCollection at 0x26a3639b490>"
      ]
     },
     "execution_count": 39,
     "metadata": {},
     "output_type": "execute_result"
    },
    {
     "data": {
      "image/png": "[encoded data removed]",
      "text/plain": [
       "<Figure size 432x288 with 1 Axes>"
      ]
     },
     "metadata": {
      "needs_background": "light"
     },
     "output_type": "display_data"
    }
   ],
   "source": [
    "plt.scatter(y_test,prediction)"
   ]
  },
  {
   "cell_type": "markdown",
   "id": "56132d12",
   "metadata": {},
   "source": [
    "## RandomForest Hyperparameter Tuning"
   ]
  },
  {
   "cell_type": "code",
   "execution_count": 40,
   "id": "f787145f",
   "metadata": {},
   "outputs": [
    {
     "name": "stdout",
     "output_type": "stream",
     "text": [
      "Parameters currently in use:\n",
      "\n",
      "{'bootstrap': True,\n",
      " 'ccp_alpha': 0.0,\n",
      " 'criterion': 'mse',\n",
      " 'max_depth': None,\n",
      " 'max_features': 'auto',\n",
      " 'max_leaf_nodes': None,\n",
      " 'max_samples': None,\n",
      " 'min_impurity_decrease': 0.0,\n",
      " 'min_impurity_split': None,\n",
      " 'min_samples_leaf': 1,\n",
      " 'min_samples_split': 2,\n",
      " 'min_weight_fraction_leaf': 0.0,\n",
      " 'n_estimators': 100,\n",
      " 'n_jobs': None,\n",
      " 'oob_score': False,\n",
      " 'random_state': 42,\n",
      " 'verbose': 0,\n",
      " 'warm_start': False}\n"
     ]
    }
   ],
   "source": [
    "from sklearn.ensemble import RandomForestRegressor\n",
    "rf = RandomForestRegressor(random_state = 42)\n",
    "from pprint import pprint\n",
    "# Look at parameters used by our current forest\n",
    "print('Parameters currently in use:\\n')\n",
    "pprint(rf.get_params())"
   ]
  },
  {
   "cell_type": "markdown",
   "id": "74af80b3",
   "metadata": {},
   "source": [
    "## Random Hyperparameter Grid"
   ]
  },
  {
   "cell_type": "code",
   "execution_count": 41,
   "id": "4b6d00e6",
   "metadata": {},
   "outputs": [
    {
     "name": "stdout",
     "output_type": "stream",
     "text": [
      "{'bootstrap': [True, False],\n",
      " 'max_depth': [10, 20, 30, 40, 50, 60, 70, 80, 90, 100, 110, None],\n",
      " 'max_features': ['auto', 'sqrt'],\n",
      " 'min_samples_leaf': [1, 2, 4],\n",
      " 'min_samples_split': [2, 5, 10],\n",
      " 'n_estimators': [200, 400, 600, 800, 1000, 1200, 1400, 1600, 1800, 2000]}\n"
     ]
    }
   ],
   "source": [
    "from sklearn.model_selection import RandomizedSearchCV\n",
    "# Number of trees in random forest\n",
    "n_estimators = [int(x) for x in np.linspace(start = 200, stop = 2000, num = 10)]\n",
    "# Number of features to consider at every split\n",
    "max_features = ['auto', 'sqrt']\n",
    "# Maximum number of levels in tree\n",
    "max_depth = [int(x) for x in np.linspace(10, 110, num = 11)]\n",
    "max_depth.append(None)\n",
    "# Minimum number of samples required to split a node\n",
    "min_samples_split = [2, 5, 10]\n",
    "# Minimum number of samples required at each leaf node\n",
    "min_samples_leaf = [1, 2, 4]\n",
    "# Method of selecting samples for training each tree\n",
    "bootstrap = [True, False]\n",
    "# Create the random grid\n",
    "random_grid = {'n_estimators': n_estimators,\n",
    "               'max_features': max_features,\n",
    "               'max_depth': max_depth,\n",
    "               'min_samples_split': min_samples_split,\n",
    "               'min_samples_leaf': min_samples_leaf,\n",
    "               'bootstrap': bootstrap}\n",
    "pprint(random_grid)"
   ]
  },
  {
   "cell_type": "markdown",
   "id": "19a6d111",
   "metadata": {},
   "source": [
    "## Random Search Training"
   ]
  },
  {
   "cell_type": "code",
   "execution_count": 42,
   "id": "200fb499",
   "metadata": {},
   "outputs": [
    {
     "name": "stdout",
     "output_type": "stream",
     "text": [
      "Fitting 3 folds for each of 100 candidates, totalling 300 fits\n"
     ]
    },
    {
     "data": {
      "text/plain": [
       "RandomizedSearchCV(cv=3, estimator=RandomForestRegressor(random_state=42),\n",
       "                   n_iter=100, n_jobs=-1,\n",
       "                   param_distributions={'bootstrap': [True, False],\n",
       "                                        'max_depth': [10, 20, 30, 40, 50, 60,\n",
       "                                                      70, 80, 90, 100, 110,\n",
       "                                                      None],\n",
       "                                        'max_features': ['auto', 'sqrt'],\n",
       "                                        'min_samples_leaf': [1, 2, 4],\n",
       "                                        'min_samples_split': [2, 5, 10],\n",
       "                                        'n_estimators': [200, 400, 600, 800,\n",
       "                                                         1000, 1200, 1400, 1600,\n",
       "                                                         1800, 2000]},\n",
       "                   random_state=42, verbose=2)"
      ]
     },
     "execution_count": 42,
     "metadata": {},
     "output_type": "execute_result"
    }
   ],
   "source": [
    "# Use the random grid to search for best hyperparameters\n",
    "# Random search of parameters, using 3 fold cross validation, \n",
    "# search across 100 different combinations, and use all available cores\n",
    "rf_random = RandomizedSearchCV(estimator = rf, param_distributions = random_grid, n_iter = 100, cv = 3, verbose=2, random_state=42, n_jobs = -1)\n",
    "# Fit the random search model\n",
    "rf_random.fit(x_train, y_train)"
   ]
  },
  {
   "cell_type": "code",
   "execution_count": 43,
   "id": "f4b5fe70",
   "metadata": {},
   "outputs": [
    {
     "data": {
      "text/plain": [
       "{'n_estimators': 400,\n",
       " 'min_samples_split': 2,\n",
       " 'min_samples_leaf': 1,\n",
       " 'max_features': 'sqrt',\n",
       " 'max_depth': None,\n",
       " 'bootstrap': False}"
      ]
     },
     "execution_count": 43,
     "metadata": {},
     "output_type": "execute_result"
    }
   ],
   "source": [
    "rf_random.best_params_"
   ]
  },
  {
   "cell_type": "markdown",
   "id": "bf59472f",
   "metadata": {},
   "source": [
    "## Evaluate Random Search"
   ]
  },
  {
   "cell_type": "code",
   "execution_count": 44,
   "id": "1f73b3d7",
   "metadata": {},
   "outputs": [
    {
     "name": "stdout",
     "output_type": "stream",
     "text": [
      "Model Performance\n",
      "Average Error: 0.0962 degrees.\n",
      "Accuracy = 99.19%.\n"
     ]
    }
   ],
   "source": [
    "def evaluate(model, test_features, test_labels):\n",
    "    predictions = model.predict(test_features)\n",
    "    errors = abs(predictions - test_labels)\n",
    "    mape = 100 * np.mean(errors / test_labels)\n",
    "    accuracy = 100 - mape\n",
    "    print('Model Performance')\n",
    "    print('Average Error: {:0.4f} degrees.'.format(np.mean(errors)))\n",
    "    print('Accuracy = {:0.2f}%.'.format(accuracy))\n",
    "    \n",
    "    return accuracy\n",
    "base_model = RandomForestRegressor(n_estimators = 10, random_state = 42)\n",
    "base_model.fit(x_train, y_train)\n",
    "base_accuracy = evaluate(base_model, x_train, y_train)"
   ]
  },
  {
   "cell_type": "code",
   "execution_count": 45,
   "id": "e6b9d143",
   "metadata": {},
   "outputs": [
    {
     "name": "stdout",
     "output_type": "stream",
     "text": [
      "Model Performance\n",
      "Average Error: 0.0051 degrees.\n",
      "Accuracy = 99.96%.\n"
     ]
    }
   ],
   "source": [
    "best_random = rf_random.best_estimator_\n",
    "random_accuracy = evaluate(best_random, x_train, y_train)"
   ]
  },
  {
   "cell_type": "code",
   "execution_count": 46,
   "id": "8d3e8d39",
   "metadata": {},
   "outputs": [
    {
     "name": "stdout",
     "output_type": "stream",
     "text": [
      "Improvement of 0.78%.\n"
     ]
    }
   ],
   "source": [
    "print('Improvement of {:0.2f}%.'.format( 100 * (random_accuracy - base_accuracy) / base_accuracy))"
   ]
  },
  {
   "cell_type": "markdown",
   "id": "3810569d",
   "metadata": {},
   "source": [
    "# Grid Search with Cross Validation"
   ]
  },
  {
   "cell_type": "code",
   "execution_count": 47,
   "id": "37e8b89b",
   "metadata": {},
   "outputs": [],
   "source": [
    "from sklearn.model_selection import GridSearchCV\n",
    "# Create the parameter grid based on the results of random search \n",
    "param_grid = {\n",
    "    'bootstrap': [True],\n",
    "    'max_depth': [80, 90, 100, 110],\n",
    "    'max_features': [2, 3],\n",
    "    'min_samples_leaf': [3, 4, 5],\n",
    "    'min_samples_split': [8, 10, 12],\n",
    "    'n_estimators': [100, 200, 300, 1000]\n",
    "}\n",
    "# Create a based model\n",
    "rf = RandomForestRegressor()\n",
    "# Instantiate the grid search model\n",
    "grid_search = GridSearchCV(estimator = rf, param_grid = param_grid, \n",
    "                          cv = 3, n_jobs = -1, verbose = 2)"
   ]
  },
  {
   "cell_type": "code",
   "execution_count": 48,
   "id": "e53f75ae",
   "metadata": {},
   "outputs": [
    {
     "name": "stdout",
     "output_type": "stream",
     "text": [
      "Fitting 3 folds for each of 288 candidates, totalling 864 fits\n"
     ]
    },
    {
     "data": {
      "text/plain": [
       "GridSearchCV(cv=3, estimator=RandomForestRegressor(), n_jobs=-1,\n",
       "             param_grid={'bootstrap': [True], 'max_depth': [80, 90, 100, 110],\n",
       "                         'max_features': [2, 3], 'min_samples_leaf': [3, 4, 5],\n",
       "                         'min_samples_split': [8, 10, 12],\n",
       "                         'n_estimators': [100, 200, 300, 1000]},\n",
       "             verbose=2)"
      ]
     },
     "execution_count": 48,
     "metadata": {},
     "output_type": "execute_result"
    }
   ],
   "source": [
    "# Fit the grid search to the data\n",
    "grid_search.fit(x_train, y_train)"
   ]
  },
  {
   "cell_type": "code",
   "execution_count": 49,
   "id": "633d4548",
   "metadata": {},
   "outputs": [
    {
     "data": {
      "text/plain": [
       "{'bootstrap': True,\n",
       " 'max_depth': 90,\n",
       " 'max_features': 3,\n",
       " 'min_samples_leaf': 3,\n",
       " 'min_samples_split': 8,\n",
       " 'n_estimators': 100}"
      ]
     },
     "execution_count": 49,
     "metadata": {},
     "output_type": "execute_result"
    }
   ],
   "source": [
    "grid_search.best_params_"
   ]
  },
  {
   "cell_type": "code",
   "execution_count": 50,
   "id": "110f1696",
   "metadata": {},
   "outputs": [
    {
     "name": "stdout",
     "output_type": "stream",
     "text": [
      "Model Performance\n",
      "Average Error: 0.5359 degrees.\n",
      "Accuracy = 95.28%.\n"
     ]
    }
   ],
   "source": [
    "best_grid = grid_search.best_estimator_\n",
    "grid_accuracy = evaluate(best_grid, x_train, y_train)"
   ]
  },
  {
   "cell_type": "code",
   "execution_count": 51,
   "id": "2abd45b5",
   "metadata": {},
   "outputs": [
    {
     "name": "stdout",
     "output_type": "stream",
     "text": [
      "Improvement of -3.94%.\n"
     ]
    }
   ],
   "source": [
    "print('Improvement of {:0.2f}%.'.format( 100 * (grid_accuracy - base_accuracy) / base_accuracy))"
   ]
  },
  {
   "cell_type": "code",
   "execution_count": 52,
   "id": "6012e471",
   "metadata": {},
   "outputs": [],
   "source": [
    "tuned_pred=best_grid.predict(x_test)"
   ]
  },
  {
   "cell_type": "code",
   "execution_count": 53,
   "id": "ff418fb4",
   "metadata": {},
   "outputs": [
    {
     "data": {
      "text/plain": [
       "<matplotlib.collections.PathCollection at 0x26a32d78100>"
      ]
     },
     "execution_count": 53,
     "metadata": {},
     "output_type": "execute_result"
    },
    {
     "data": {
      "image/png": "[encoded data removed]",
      "text/plain": [
       "<Figure size 432x288 with 1 Axes>"
      ]
     },
     "metadata": {
      "needs_background": "light"
     },
     "output_type": "display_data"
    }
   ],
   "source": [
    "plt.scatter(y_test,tuned_pred)"
   ]
  },
  {
   "cell_type": "code",
   "execution_count": null,
   "id": "bc8a7b82",
   "metadata": {},
   "outputs": [],
   "source": []
  }
 ],
 "metadata": {
  "kernelspec": {
   "display_name": "Python 3 (ipykernel)",
   "language": "python",
   "name": "python3"
  },
  "language_info": {
   "codemirror_mode": {
    "name": "ipython",
    "version": 3
   },
   "file_extension": ".py",
   "mimetype": "text/x-python",
   "name": "python",
   "nbconvert_exporter": "python",
   "pygments_lexer": "ipython3",
   "version": "3.9.7"
  }
 },
 "nbformat": 4,
 "nbformat_minor": 5
}
